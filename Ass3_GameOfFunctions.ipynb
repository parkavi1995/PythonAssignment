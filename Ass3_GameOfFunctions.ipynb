{
  "nbformat": 4,
  "nbformat_minor": 0,
  "metadata": {
    "colab": {
      "provenance": [],
      "authorship_tag": "ABX9TyPv66zpjap9rg3+TxNONFTx",
      "include_colab_link": true
    },
    "kernelspec": {
      "name": "python3",
      "display_name": "Python 3"
    },
    "language_info": {
      "name": "python"
    }
  },
  "cells": [
    {
      "cell_type": "markdown",
      "metadata": {
        "id": "view-in-github",
        "colab_type": "text"
      },
      "source": [
        "<a href=\"https://colab.research.google.com/github/parkavi1995/PythonAssignment/blob/main/Ass3_GameOfFunctions.ipynb\" target=\"_parent\"><img src=\"https://colab.research.google.com/assets/colab-badge.svg\" alt=\"Open In Colab\"/></a>"
      ]
    },
    {
      "cell_type": "code",
      "execution_count": 17,
      "metadata": {
        "colab": {
          "base_uri": "https://localhost:8080/"
        },
        "id": "u8Jy_7ndnDAR",
        "outputId": "126eef18-9331-4b7e-9980-e8834d2b975b"
      },
      "outputs": [
        {
          "output_type": "stream",
          "name": "stdout",
          "text": [
            "SUM =  20\n"
          ]
        }
      ],
      "source": [
        "class test:\n",
        "  global num ,total \n",
        "  def summation(self):\n",
        "   num= [8,2,3,0,7]\n",
        "   total = 0\n",
        "   for x in num:\n",
        "    total += x;\n",
        "   print(\"SUM = \",total) \n",
        "\n",
        "obj=test()\n",
        "obj.summation()"
      ]
    }
  ]
}