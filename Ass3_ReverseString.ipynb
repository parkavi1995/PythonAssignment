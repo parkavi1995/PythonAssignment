{
  "nbformat": 4,
  "nbformat_minor": 0,
  "metadata": {
    "colab": {
      "provenance": [],
      "authorship_tag": "ABX9TyOOF19Tejwcg13SUbBK8xCA",
      "include_colab_link": true
    },
    "kernelspec": {
      "name": "python3",
      "display_name": "Python 3"
    },
    "language_info": {
      "name": "python"
    }
  },
  "cells": [
    {
      "cell_type": "markdown",
      "metadata": {
        "id": "view-in-github",
        "colab_type": "text"
      },
      "source": [
        "<a href=\"https://colab.research.google.com/github/parkavi1995/PythonAssignment/blob/main/Ass3_ReverseString.ipynb\" target=\"_parent\"><img src=\"https://colab.research.google.com/assets/colab-badge.svg\" alt=\"Open In Colab\"/></a>"
      ]
    },
    {
      "cell_type": "code",
      "execution_count": 3,
      "metadata": {
        "colab": {
          "base_uri": "https://localhost:8080/"
        },
        "id": "-gM1EckjsUen",
        "outputId": "3dae2097-8fdf-43e5-8320-79e0cc7e264f"
      },
      "outputs": [
        {
          "output_type": "stream",
          "name": "stdout",
          "text": [
            "Reverse String =  dcba4321\n"
          ]
        }
      ],
      "source": [
        "class test:\n",
        "   def stringreverse(self):\n",
        "    txt = \"1234abcd\" [::-1]\n",
        "    print(\"Reverse String = \" , txt)  \n",
        "\n",
        "obj=test()\n",
        "obj.stringreverse()\n"
      ]
    }
  ]
}