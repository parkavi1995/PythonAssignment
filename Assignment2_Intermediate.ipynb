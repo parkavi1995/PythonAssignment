{
  "nbformat": 4,
  "nbformat_minor": 0,
  "metadata": {
    "colab": {
      "provenance": [],
      "authorship_tag": "ABX9TyMQxZeF/bopBpsIoWFG47cG",
      "include_colab_link": true
    },
    "kernelspec": {
      "name": "python3",
      "display_name": "Python 3"
    },
    "language_info": {
      "name": "python"
    }
  },
  "cells": [
    {
      "cell_type": "markdown",
      "metadata": {
        "id": "view-in-github",
        "colab_type": "text"
      },
      "source": [
        "<a href=\"https://colab.research.google.com/github/parkavi1995/PythonAssignment/blob/main/Assignment2_Intermediate.ipynb\" target=\"_parent\"><img src=\"https://colab.research.google.com/assets/colab-badge.svg\" alt=\"Open In Colab\"/></a>"
      ]
    },
    {
      "cell_type": "code",
      "execution_count": null,
      "metadata": {
        "colab": {
          "base_uri": "https://localhost:8080/"
        },
        "id": "tDub6b_xo5KR",
        "outputId": "18a4a143-1283-4fd0-8464-1e9e85f9a6a3"
      },
      "outputs": [
        {
          "output_type": "stream",
          "name": "stdout",
          "text": [
            "The unique values from the list is\n",
            "[1, 2, 3, 4, 5]\n"
          ]
        }
      ],
      "source": [
        " L= [1,1,1,1,2,2,3,3,3,3,4,5]\n",
        " unique_elements = []\n",
        " for x in L:\n",
        "  if x not in unique_elements:\n",
        "    unique_elements.append(x)\n",
        "print(\"The unique values from the list is\");\n",
        "print(unique_elements);"
      ]
    },
    {
      "cell_type": "code",
      "source": [
        "L= [1,2,3,4 ,[4,3]]\n",
        "num= int(input(\"enter the number: \"));\n",
        "if num in L[4]:\n",
        "  print(\"The given number exist in the inner list\");\n",
        "else:\n",
        "  print(\"The given number does not exist in the inner list\");\n",
        "\n"
      ],
      "metadata": {
        "colab": {
          "base_uri": "https://localhost:8080/"
        },
        "id": "5AGLW0zOqqYY",
        "outputId": "8f070f50-35aa-4d0b-a304-48e1fe5b20c9"
      },
      "execution_count": null,
      "outputs": [
        {
          "output_type": "stream",
          "name": "stdout",
          "text": [
            "enter the number: 3\n",
            "The given number exist in the inner list\n"
          ]
        }
      ]
    }
  ]
}