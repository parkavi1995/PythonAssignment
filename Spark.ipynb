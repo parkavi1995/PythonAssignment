{
  "nbformat": 4,
  "nbformat_minor": 0,
  "metadata": {
    "colab": {
      "provenance": [],
      "authorship_tag": "ABX9TyNqsBdXvvKpNx824UKMhArC",
      "include_colab_link": true
    },
    "kernelspec": {
      "name": "python3",
      "display_name": "Python 3"
    },
    "language_info": {
      "name": "python"
    }
  },
  "cells": [
    {
      "cell_type": "markdown",
      "metadata": {
        "id": "view-in-github",
        "colab_type": "text"
      },
      "source": [
        "<a href=\"https://colab.research.google.com/github/parkavi1995/PythonAssignment/blob/main/Spark.ipynb\" target=\"_parent\"><img src=\"https://colab.research.google.com/assets/colab-badge.svg\" alt=\"Open In Colab\"/></a>"
      ]
    },
    {
      "cell_type": "code",
      "execution_count": null,
      "metadata": {
        "id": "F3AthBMbDUFl"
      },
      "outputs": [],
      "source": [
        "{\n",
        "  \"nbformat\": 4,\n",
        "  \"nbformat_minor\": 0,\n",
        "  \"metadata\": {\n",
        "    \"colab\": {\n",
        "      \"provenance\": []\n",
        "    },\n",
        "    \"kernelspec\": {\n",
        "      \"name\": \"python3\",\n",
        "      \"display_name\": \"Python 3\"\n",
        "    },\n",
        "    \"language_info\": {\n",
        "      \"name\": \"python\"\n",
        "    }\n",
        "  },\n",
        "  \"cells\": [\n",
        "    {\n",
        "      \"cell_type\": \"code\",\n",
        "      \"source\": [\n",
        "        \"from pyspark.sql import SparkSession\\n\",\n",
        "        \"from pyspark.sql.functions import explode, col\\n\",\n",
        "        \"\\n\",\n",
        "        \"spark = SparkSession.builder.appName(\\\"FilterPhn\\\").getOrCreate()\\n\",\n",
        "        \"data_path = \\\"file:///content/user_03.json\\\"\\n\",\n",
        "        \"df = spark.read.json(data_path)\\n\",\n",
        "        \"\\n\",\n",
        "        \"# Explode the 'phoneNumbers' array\\n\",\n",
        "        \"df_exploded = df.select(\\\"firstName\\\", \\\"lastName\\\", explode(col(\\\"phoneNumbers\\\")).alias(\\\"phone\\\"))\\n\",\n",
        "        \"\\n\",\n",
        "        \"# Filter and display phone numbers with type 'office'\\n\",\n",
        "        \"filtered_phone_numbers = df_exploded.filter(col(\\\"phone.type\\\") == \\\"office\\\").select(\\\"firstName\\\", \\\"lastName\\\", \\\"phone.number\\\")\\n\",\n",
        "        \"num=filtered_phone_numbers.show(truncate=False)\\n\",\n",
        "        \"\\n\",\n",
        "        \"print(num)\\n\",\n",
        "        \"spark.stop()\"\n",
        "      ],\n",
        "      \"metadata\": {\n",
        "        \"colab\": {\n",
        "          \"base_uri\": \"https://localhost:8080/\"\n",
        "        },\n",
        "        \"outputId\": \"7ba5d298-a697-4cb6-f6d1-065abddc09db\",\n",
        "        \"id\": \"6bdOiVhU8SXO\"\n",
        "      },\n",
        "      \"execution_count\": null,\n",
        "      \"outputs\": [\n",
        "        {\n",
        "          \"output_type\": \"stream\",\n",
        "          \"name\": \"stdout\",\n",
        "          \"text\": [\n",
        "            \"+---------+--------+------------+\\n\",\n",
        "            \"|firstName|lastName|number      |\\n\",\n",
        "            \"+---------+--------+------------+\\n\",\n",
        "            \"|John     |Smith   |646 555-4567|\\n\",\n",
        "            \"|John1    |Smith   |646 555-4567|\\n\",\n",
        "            \"+---------+--------+------------+\\n\",\n",
        "            \"\\n\",\n",
        "            \"None\\n\"\n",
        "          ]\n",
        "        }\n",
        "      ]\n",
        "    }\n",
        "  ]\n",
        "}\n"
      ]
    }
  ]
}