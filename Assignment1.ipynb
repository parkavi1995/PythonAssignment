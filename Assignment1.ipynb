{
  "nbformat": 4,
  "nbformat_minor": 0,
  "metadata": {
    "colab": {
      "provenance": [],
      "authorship_tag": "ABX9TyMxxPuPoyQAwlKFuz3RfMqN",
      "include_colab_link": true
    },
    "kernelspec": {
      "name": "python3",
      "display_name": "Python 3"
    },
    "language_info": {
      "name": "python"
    }
  },
  "cells": [
    {
      "cell_type": "markdown",
      "metadata": {
        "id": "view-in-github",
        "colab_type": "text"
      },
      "source": [
        "<a href=\"https://colab.research.google.com/github/parkavi1995/PythonAssignment/blob/main/Assignment1.ipynb\" target=\"_parent\"><img src=\"https://colab.research.google.com/assets/colab-badge.svg\" alt=\"Open In Colab\"/></a>"
      ]
    },
    {
      "cell_type": "code",
      "execution_count": null,
      "metadata": {
        "colab": {
          "base_uri": "https://localhost:8080/"
        },
        "id": "6-iFZDX6F6op",
        "outputId": "86fe2ca7-2604-4b29-f288-1696733b1ebd"
      },
      "outputs": [
        {
          "output_type": "stream",
          "name": "stdout",
          "text": [
            "Enter the number: 15\n",
            "Fizz Buzz\n"
          ]
        }
      ],
      "source": [
        "x = int(input(\"Enter the number: \"))\n",
        "if x%3==0 and x%5==0:\n",
        "    print('Fizz Buzz')\n",
        "elif x%5==0:\n",
        "    print('Fuzz')\n",
        "elif x%3==0:\n",
        "    print('Fizz')"
      ]
    },
    {
      "cell_type": "code",
      "source": [
        "calls = int(input(\"Enter the number of calls: \"))\n",
        "bill= 0;\n",
        "if calls<=100:\n",
        "    bill=200;\n",
        "    print(\"The Bill Amount is: \",bill)\n",
        "elif calls>100 and calls<=150:\n",
        "    calls=calls-100;\n",
        "    bill=200+(0.60 *calls);\n",
        "    print(\"The Bill Amount is: \",bill)\n",
        "elif calls>150 and calls<=200:\n",
        "    calls =calls-150;\n",
        "    bill = 200+(0.60 *50) +(0.50 *calls);\n",
        "    print(\"The Bill Amount is: \",bill)\n",
        "elif calls>200:\n",
        "    calls =calls-200;\n",
        "    bill = 200+(0.60 *50) +(0.50 *50)+ (0.40 *calls);\n",
        "    print(\"The Bill Amount is: \",bill)"
      ],
      "metadata": {
        "colab": {
          "base_uri": "https://localhost:8080/"
        },
        "id": "03TaxM-1GRoR",
        "outputId": "e839f8af-7ebf-4f3d-b836-8fc5be912b47"
      },
      "execution_count": null,
      "outputs": [
        {
          "output_type": "stream",
          "name": "stdout",
          "text": [
            "Enter the number of calls: 220\n",
            "The Bill Amount is:  263.0\n"
          ]
        }
      ]
    },
    {
      "cell_type": "code",
      "source": [
        "str = input(\"Enter transaction log: \")\n",
        "netamount=0;\n",
        "type = str.split(\" \");\n",
        "for i in type:    \n",
        "    if i.startswith(\"D\"):\n",
        "        j=i.split(\":\");\n",
        "        netamount+=int(j[1]);\n",
        "        print(\"The netamount =\",netamount)\n",
        "    elif i.startswith(\"W\"):\n",
        "        j=i.split(\":\");\n",
        "        netamount-=int(j[1]);\n",
        "        print(\"The netamount =\", netamount)\n",
        "\n"
      ],
      "metadata": {
        "colab": {
          "base_uri": "https://localhost:8080/"
        },
        "id": "6xHcL7qWHDzU",
        "outputId": "85e97450-b0c9-443c-cbf1-dd937ed0cbc7"
      },
      "execution_count": null,
      "outputs": [
        {
          "output_type": "stream",
          "name": "stdout",
          "text": [
            "Enter transaction log: D:100 W:200 D:400\n",
            "The netamount = 100\n",
            "The netamount = -100\n",
            "The netamount = 300\n"
          ]
        }
      ]
    }
  ]
}