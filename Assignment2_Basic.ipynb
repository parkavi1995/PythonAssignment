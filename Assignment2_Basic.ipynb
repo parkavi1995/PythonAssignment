{
  "nbformat": 4,
  "nbformat_minor": 0,
  "metadata": {
    "colab": {
      "provenance": [],
      "authorship_tag": "ABX9TyNwPMZZfzOyqSj8lP6X0Syu",
      "include_colab_link": true
    },
    "kernelspec": {
      "name": "python3",
      "display_name": "Python 3"
    },
    "language_info": {
      "name": "python"
    }
  },
  "cells": [
    {
      "cell_type": "markdown",
      "metadata": {
        "id": "view-in-github",
        "colab_type": "text"
      },
      "source": [
        "<a href=\"https://colab.research.google.com/github/parkavi1995/PythonAssignment/blob/main/Assignment2_Basic.ipynb\" target=\"_parent\"><img src=\"https://colab.research.google.com/assets/colab-badge.svg\" alt=\"Open In Colab\"/></a>"
      ]
    },
    {
      "cell_type": "code",
      "execution_count": null,
      "metadata": {
        "colab": {
          "base_uri": "https://localhost:8080/"
        },
        "id": "gxamzy_rtyZ4",
        "outputId": "263a66ed-5439-48c0-a0d5-d1e9c2610554"
      },
      "outputs": [
        {
          "output_type": "stream",
          "name": "stdout",
          "text": [
            "['phone.jpg', 'view.jpg', 'bear.jpg']\n"
          ]
        }
      ],
      "source": [
        "filenames =['view.jpg','bear.jpg','ball.png']\n",
        "filenames.insert(0,'phone.jpg');\n",
        "filenames.remove('ball.png');\n",
        "print(filenames);"
      ]
    },
    {
      "cell_type": "code",
      "source": [
        "L=[1,2,3,4,5,6,7,8,9,10]\n",
        "L.sort();\n",
        "print(\"The minimum value in the list is\" ,L[0]);\n",
        "print(\"The maximum value in the list is\" ,L[-1]);\n",
        "average= sum(L)/len(L);\n",
        "print(\"The average value of the given list is\" ,average);"
      ],
      "metadata": {
        "colab": {
          "base_uri": "https://localhost:8080/"
        },
        "id": "k3tlTgaFyNSF",
        "outputId": "888e5da2-43a0-4036-d98a-ee5855863448"
      },
      "execution_count": null,
      "outputs": [
        {
          "output_type": "stream",
          "name": "stdout",
          "text": [
            "The minimum value in the list is 1\n",
            "The maximum value in the list is 10\n",
            "The average value of the given list is 5.5\n"
          ]
        }
      ]
    }
  ]
}