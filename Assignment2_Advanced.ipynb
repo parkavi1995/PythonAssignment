{
  "nbformat": 4,
  "nbformat_minor": 0,
  "metadata": {
    "colab": {
      "provenance": [],
      "authorship_tag": "ABX9TyOpnWJFk9tRGh3gR7cgPHQT",
      "include_colab_link": true
    },
    "kernelspec": {
      "name": "python3",
      "display_name": "Python 3"
    },
    "language_info": {
      "name": "python"
    }
  },
  "cells": [
    {
      "cell_type": "markdown",
      "metadata": {
        "id": "view-in-github",
        "colab_type": "text"
      },
      "source": [
        "<a href=\"https://colab.research.google.com/github/parkavi1995/PythonAssignment/blob/main/Assignment2_Advanced.ipynb\" target=\"_parent\"><img src=\"https://colab.research.google.com/assets/colab-badge.svg\" alt=\"Open In Colab\"/></a>"
      ]
    },
    {
      "cell_type": "code",
      "execution_count": null,
      "metadata": {
        "colab": {
          "base_uri": "https://localhost:8080/"
        },
        "id": "fS4wKHf_3q87",
        "outputId": "50337b98-552e-4e90-c614-30fd0df8d529"
      },
      "outputs": [
        {
          "output_type": "stream",
          "name": "stdout",
          "text": [
            "2.0 , 4.5 , 0.0\n",
            "SUM=  6.5\n"
          ]
        }
      ],
      "source": [
        "L=[[1,2,3],[4,5,6,3],[-1,-2,-10,5,8]]\n",
        "avgOfFirst= sum(L[0])/len(L[0]);\n",
        "avgOfSecond= sum(L[1])/len(L[1]);\n",
        "avgOfThird= sum(L[2])/len(L[2]);\n",
        "print(avgOfFirst,\",\",avgOfSecond,\",\",avgOfThird)\n",
        "SUM= avgOfFirst+avgOfSecond+avgOfThird;\n",
        "print(\"SUM= \", SUM)\n"
      ]
    },
    {
      "cell_type": "code",
      "source": [
        "numbers_nested = [[1,-1,2], [0,-5,3,5,-2],[1,2,1,0,-2,-3]]\n",
        "Output = []\n",
        "for e in numbers_nested:\n",
        "    temp = []\n",
        "    for x in e:\n",
        "        if x>0:\n",
        "            temp.append(x)\n",
        "    Output.append(temp)\n",
        "print(Output)"
      ],
      "metadata": {
        "colab": {
          "base_uri": "https://localhost:8080/"
        },
        "id": "j3a2uA-G7Axe",
        "outputId": "c0057a4a-1fd2-4886-cae8-e2abc0229068"
      },
      "execution_count": null,
      "outputs": [
        {
          "output_type": "stream",
          "name": "stdout",
          "text": [
            "[[1, 2], [3, 5], [1, 2, 1]]\n"
          ]
        }
      ]
    }
  ]
}