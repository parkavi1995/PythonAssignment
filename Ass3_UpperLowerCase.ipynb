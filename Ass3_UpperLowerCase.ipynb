{
  "nbformat": 4,
  "nbformat_minor": 0,
  "metadata": {
    "colab": {
      "provenance": [],
      "authorship_tag": "ABX9TyPMToiSuAYrfm/5nBF6LfL5",
      "include_colab_link": true
    },
    "kernelspec": {
      "name": "python3",
      "display_name": "Python 3"
    },
    "language_info": {
      "name": "python"
    }
  },
  "cells": [
    {
      "cell_type": "markdown",
      "metadata": {
        "id": "view-in-github",
        "colab_type": "text"
      },
      "source": [
        "<a href=\"https://colab.research.google.com/github/parkavi1995/PythonAssignment/blob/main/Ass3_UpperLowerCase.ipynb\" target=\"_parent\"><img src=\"https://colab.research.google.com/assets/colab-badge.svg\" alt=\"Open In Colab\"/></a>"
      ]
    },
    {
      "cell_type": "code",
      "execution_count": 3,
      "metadata": {
        "colab": {
          "base_uri": "https://localhost:8080/"
        },
        "id": "DynPZLiIw0Bj",
        "outputId": "9a1c69d9-771e-46a5-f36c-266d10adbae6"
      },
      "outputs": [
        {
          "output_type": "stream",
          "name": "stdout",
          "text": [
            "No Of Lower case characters =  12 No Of Upper case characters =  3\n"
          ]
        }
      ],
      "source": [
        "def upperlower(string):\n",
        " \n",
        "    upper,lower = 0,0\n",
        "  \n",
        "    for i in range(len(string)):\n",
        "     \n",
        "        if (ord(string[i]) >= 97 and\n",
        "            ord(string[i]) <= 122):\n",
        "            lower += 1\n",
        " \n",
        "        elif (ord(string[i]) >= 65 and\n",
        "            ord(string[i]) <= 90):\n",
        "            upper += 1\n",
        " \n",
        "    print('No Of Lower case characters = ',lower,\n",
        "        'No Of Upper case characters = ' ,upper)\n",
        " \n",
        "upperlower(\"The quick Brow Fox\")"
      ]
    }
  ]
}